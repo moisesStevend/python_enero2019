{
 "cells": [
  {
   "cell_type": "code",
   "execution_count": 10,
   "metadata": {},
   "outputs": [
    {
     "name": "stdout",
     "output_type": "stream",
     "text": [
      "ingrese num1: 3\n",
      "ingrese num2: 4\n",
      "la suma es: 7\n",
      "la resta es: -1\n",
      "la multiplicaciones es: 12\n",
      "la division es: 0.75\n"
     ]
    }
   ],
   "source": [
    "def sumar(a,b): #a=5, b=6\n",
    "    s=a+b\n",
    "    return s \n",
    "\n",
    "def restar(a,b): #a=5, b=6\n",
    "    s=a-b\n",
    "    return s\n",
    "\n",
    "def multiplicar(a,b): #a=5, b=6\n",
    "    s=a*b\n",
    "    return s\n",
    "\n",
    "def dividir(a,b): #a=5, b=6\n",
    "    s=a/b\n",
    "    return s\n",
    "\n",
    "n1 = int(input(\"ingrese num1: \"))\n",
    "n2 = int(input(\"ingrese num2: \"))\n",
    "\n",
    "print(\"la suma es:\",sumar(n1,n2))\n",
    "print(\"la resta es:\",restar(n1,n2))\n",
    "print(\"la multiplicaciones es:\",multiplicar(n1,n2))\n",
    "print(\"la division es:\",dividir(n1,n2))\n"
   ]
  },
  {
   "cell_type": "code",
   "execution_count": null,
   "metadata": {},
   "outputs": [],
   "source": []
  }
 ],
 "metadata": {
  "kernelspec": {
   "display_name": "Python 3",
   "language": "python",
   "name": "python3"
  },
  "language_info": {
   "codemirror_mode": {
    "name": "ipython",
    "version": 3
   },
   "file_extension": ".py",
   "mimetype": "text/x-python",
   "name": "python",
   "nbconvert_exporter": "python",
   "pygments_lexer": "ipython3",
   "version": "3.6.7"
  }
 },
 "nbformat": 4,
 "nbformat_minor": 2
}
