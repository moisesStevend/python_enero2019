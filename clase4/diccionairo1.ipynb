{
 "cells": [
  {
   "cell_type": "markdown",
   "metadata": {},
   "source": [
    "# Diccionarios"
   ]
  },
  {
   "cell_type": "markdown",
   "metadata": {},
   "source": [
    "Diccionario una variable iterable, cuyo contenido puede ser accedido mediante una KEY"
   ]
  },
  {
   "cell_type": "code",
   "execution_count": 1,
   "metadata": {},
   "outputs": [
    {
     "name": "stdout",
     "output_type": "stream",
     "text": [
      "8\n"
     ]
    }
   ],
   "source": [
    "#recordar\n",
    "#k:0,1,2\n",
    "#--------\n",
    "l=[4,5,8]\n",
    "\n",
    "print(l[2])"
   ]
  },
  {
   "cell_type": "code",
   "execution_count": 2,
   "metadata": {},
   "outputs": [
    {
     "name": "stdout",
     "output_type": "stream",
     "text": [
      "stevend\n"
     ]
    }
   ],
   "source": [
    "d={'nombre': 'stevend', 'apellido': 'meza'}\n",
    "\n",
    "print(d['nombre'])"
   ]
  },
  {
   "cell_type": "code",
   "execution_count": 11,
   "metadata": {},
   "outputs": [
    {
     "name": "stdout",
     "output_type": "stream",
     "text": [
      "False\n",
      "[4, True]\n",
      "[5, False]\n"
     ]
    }
   ],
   "source": [
    "d2={4:5, True: False}\n",
    "\n",
    "print(d2[True])\n",
    "print(list(d2.keys()))  #devuelven todas las llaves del diccionario\n",
    "print(list(d2.values())) #devuelven todos los valores del diccionario"
   ]
  },
  {
   "cell_type": "code",
   "execution_count": 15,
   "metadata": {},
   "outputs": [
    {
     "name": "stdout",
     "output_type": "stream",
     "text": [
      "{'vocal': 'a', 'consonante': 'b'}\n"
     ]
    }
   ],
   "source": [
    "d3={}  \n",
    "d3['vocal']='a'  #key='vocal'      value='a'\n",
    "d3['consonante']='b'\n",
    "print(d3)"
   ]
  },
  {
   "cell_type": "markdown",
   "metadata": {},
   "source": [
    "###  dividir vocales y consonantes en un diccionario"
   ]
  },
  {
   "cell_type": "code",
   "execution_count": 16,
   "metadata": {},
   "outputs": [
    {
     "name": "stdout",
     "output_type": "stream",
     "text": [
      "ingrese una palabra: python\n",
      "{'vocales': ['o'], 'consonantes': ['p', 'y', 't', 'h', 'n']}\n"
     ]
    }
   ],
   "source": [
    "dd={}\n",
    "vc=\"aeiou\"\n",
    "l1=[]\n",
    "l2=[]\n",
    "\n",
    "s = input(\"ingrese una palabra: \") #python\n",
    "\n",
    "for i in s:\n",
    "    if (i in vc):\n",
    "        l1.append(i)  #vocales\n",
    "    else:\n",
    "        l2.append(i)  #consonantes\n",
    "\n",
    "dd['vocales']=l1\n",
    "dd['consonantes']=l2\n",
    "print(dd)"
   ]
  },
  {
   "cell_type": "markdown",
   "metadata": {},
   "source": [
    "###  Escriba el código en python para hallar la  moda de una lista de 15 elementos cualesquiera. 3:36 - 3:46"
   ]
  },
  {
   "cell_type": "code",
   "execution_count": 58,
   "metadata": {
    "scrolled": true
   },
   "outputs": [
    {
     "name": "stdout",
     "output_type": "stream",
     "text": [
      "{'lista': [2, 2, 2, 4, 4, 5, 5, 5, 5, 6, 6, 8, 43, 77, 99], 'moda': {5: 4}, 'promedio': 18.2, 'mediana': 5}\n"
     ]
    }
   ],
   "source": [
    "l=[4,5,6,77,8,99,5,5,43,2,2,4,5,6,2]\n",
    "d={}\n",
    "\n",
    "\n",
    "#moda\n",
    "#####################################3\n",
    "for j in l:\n",
    "    step=j  #5\n",
    "    count=0\n",
    "    for i in l:\n",
    "        if step==i:\n",
    "            count=count+1\n",
    "    if not(step in d.keys()):\n",
    "        d[j]=count\n",
    "        #print(\"el numero {} se repide {} \".format(step,count))\n",
    "#print(d.items())\n",
    "\n",
    "mayor=0\n",
    "k_mayor=0\n",
    "for r in d.items():  #r = (4,2)\n",
    "    if r[1]>=mayor:\n",
    "        mayor=r[1]\n",
    "        k_mayor=r[0]\n",
    "        \n",
    "#print(\"el numero {} se repite {}\".format(k_mayor,mayor)) \n",
    "\n",
    "d_final = {}\n",
    "d_final['lista']=l\n",
    "d_final['moda']={k_mayor: mayor}\n",
    "\n",
    "#print(d_final)\n",
    "\n",
    "#promedio\n",
    "###################################################\n",
    "suma=0\n",
    "for k in l: #[4,5,6,77,8,99,5,5,43,2,2,4,5,6,2]\n",
    "    suma=suma+k\n",
    "\n",
    "promedio=suma/len(l)\n",
    "d_final['promedio']=promedio\n",
    "\n",
    "#print(d_final)\n",
    "\n",
    "#mediana\n",
    "##################################################\n",
    "l.sort()  #10\n",
    "if len(l)%2==0:\n",
    "    v_m1 = len(l)/2\n",
    "    v_m2 = v_m1+1\n",
    "    \n",
    "    mediana=(l[v_m1]+l[v_m2])/2\n",
    "else :\n",
    "    mediana = l[int(len(l)/2)]\n",
    "    \n",
    "d_final['mediana']=mediana\n",
    "print(d_final)"
   ]
  },
  {
   "cell_type": "markdown",
   "metadata": {},
   "source": [
    "### hallar el factorial de un numero cualquiera 4:48pm-5pm"
   ]
  },
  {
   "cell_type": "code",
   "execution_count": 64,
   "metadata": {},
   "outputs": [
    {
     "name": "stdout",
     "output_type": "stream",
     "text": [
      "ingresa numero: 12\n",
      "\n",
      "      el factorial de 12 es 479001600\n",
      "\n"
     ]
    }
   ],
   "source": [
    "n=int(input('ingresa numero: '))\n",
    "f=range(1,n+1)  # 6,5,4,3,2,1 \n",
    "\n",
    "aux=1\n",
    "for i in f:\n",
    "    aux=aux*i\n",
    "\n",
    "print('''\n",
    "      el factorial de {} es {}\n",
    "'''.format(n,aux))"
   ]
  },
  {
   "cell_type": "markdown",
   "metadata": {},
   "source": [
    "### Ingresar un numero por pantalla y mostrar la suma de todos los numeros impares hasta el numero ingresado por pantalla  5:14 - 5:30 pm"
   ]
  },
  {
   "cell_type": "code",
   "execution_count": 66,
   "metadata": {
    "scrolled": true
   },
   "outputs": [
    {
     "name": "stdout",
     "output_type": "stream",
     "text": [
      "ingrese un numero: 45\n",
      "\n",
      "    la suma de todos los impares hasta 45 es 529\n",
      "\n"
     ]
    }
   ],
   "source": [
    "n = int(input(\"ingrese un numero: \")) #7\n",
    "r = range(1,n+1) #[1,2,3,4,5,6,7]\n",
    "\n",
    "aux=0\n",
    "for i in r:\n",
    "    if i%2!=0:\n",
    "        aux=aux+i\n",
    "\n",
    "print('''\n",
    "    la suma de todos los impares hasta {} es {}\n",
    "'''.format(n,aux))\n"
   ]
  },
  {
   "cell_type": "code",
   "execution_count": 77,
   "metadata": {},
   "outputs": [
    {
     "name": "stdout",
     "output_type": "stream",
     "text": [
      "\n",
      "        la suma de todos los impares hasta 46 es 529\n",
      "    \n",
      "\n",
      "        la suma de todos los impares hasta 8 es 16\n",
      "    \n",
      "\n",
      "        la suma de todos los impares hasta 999 es 250000\n",
      "    \n",
      "\n",
      "        la suma de todos los impares hasta 34 es 289\n",
      "    \n",
      "\n",
      "        la suma de todos los impares hasta 12 es 36\n",
      "    \n"
     ]
    }
   ],
   "source": [
    "g=[46,8,999,34,12]\n",
    "\n",
    "def sum_i(n):\n",
    "    r = range(1,n+1) #[1,2,3,4,5,6,7]\n",
    "\n",
    "    aux=0\n",
    "    for i in r:\n",
    "        if i%2!=0:\n",
    "            aux=aux+i\n",
    "            \n",
    "    return aux\n",
    "\n",
    "for i in g:  #[46,8,999,34,12]    \n",
    "    print('''\n",
    "        la suma de todos los impares hasta {} es {}\n",
    "    '''.format(i,sum_i(i)))\n",
    "    "
   ]
  },
  {
   "cell_type": "markdown",
   "metadata": {},
   "source": [
    "### dada una lista de 5 valores, recorrer la lista y por cada valor par devolder la suma de todos los valores hasta ese valor, si es un numero impar devolver su factorial 6:07 - 6:20pm"
   ]
  },
  {
   "cell_type": "code",
   "execution_count": 82,
   "metadata": {},
   "outputs": [
    {
     "name": "stdout",
     "output_type": "stream",
     "text": [
      "3 es impar, el fac es: 6\n",
      "5 es impar, el fac es: 120\n",
      "68 es par, la suma es: 2346\n",
      "90 es par, la suma es: 4095\n",
      "32 es par, la suma es: 528\n"
     ]
    }
   ],
   "source": [
    "l=[3,5,68,90,32]\n",
    "\n",
    "def sum_t(n):\n",
    "    r = range(1,n+1) #[1,2,3,4,5,6,7]\n",
    "    aux=0\n",
    "    for i in r:\n",
    "        #if i%2!=0:\n",
    "        aux=aux+i\n",
    "    return aux\n",
    "\n",
    "def factorial(n):\n",
    "    f=range(1,n+1)  # 6,5,4,3,2,1 \n",
    "    aux=1\n",
    "    for i in f:\n",
    "        aux=aux*i\n",
    "    return aux\n",
    "\n",
    "for i in l:\n",
    "    if i%2==0:\n",
    "        print(\"{} es par, la suma es: {}\".format(i,sum_t(i)))\n",
    "    elif i%2!=0:\n",
    "        factorial(i)\n",
    "        print(\"{} es impar, el fac es: {}\".format(i,factorial(i)))\n",
    "        \n",
    "     \n",
    "    "
   ]
  },
  {
   "cell_type": "code",
   "execution_count": 88,
   "metadata": {},
   "outputs": [
    {
     "name": "stdout",
     "output_type": "stream",
     "text": [
      "  *\n",
      " ***\n",
      "*****\n"
     ]
    }
   ],
   "source": [
    "print(\"  *\")\n",
    "print(\" ***\")\n",
    "print(\"*****\")"
   ]
  },
  {
   "cell_type": "markdown",
   "metadata": {},
   "source": [
    "### Generar asteriscos"
   ]
  },
  {
   "cell_type": "code",
   "execution_count": 101,
   "metadata": {},
   "outputs": [
    {
     "name": "stdout",
     "output_type": "stream",
     "text": [
      "tope de asteriscos: 30\n",
      "                             *                             \n",
      "                            ***                            \n",
      "                           *****                           \n",
      "                          *******                          \n",
      "                         *********                         \n",
      "                        ***********                        \n",
      "                       *************                       \n",
      "                      ***************                      \n",
      "                     *****************                     \n",
      "                    *******************                    \n",
      "                   *********************                   \n",
      "                  ***********************                  \n",
      "                 *************************                 \n",
      "                ***************************                \n",
      "               *****************************               \n",
      "              *******************************              \n",
      "             *********************************             \n",
      "            ***********************************            \n",
      "           *************************************           \n",
      "          ***************************************          \n",
      "         *****************************************         \n",
      "        *******************************************        \n",
      "       *********************************************       \n",
      "      ***********************************************      \n",
      "     *************************************************     \n",
      "    ***************************************************    \n",
      "   *****************************************************   \n",
      "  *******************************************************  \n",
      " ********************************************************* \n"
     ]
    }
   ],
   "source": [
    "ast = int(input(\"tope de asteriscos: \")) #4\n",
    "bg_ast=(ast*2)-1         #7\n",
    "\n",
    "def gen_ast(n):\n",
    "    aux_ast=n*2-1\n",
    "    esp_ast=int((bg_ast-aux_ast)/2)\n",
    "    return (\" \"*esp_ast+\"*\"*aux_ast+\" \"*esp_ast)\n",
    "    \n",
    "\n",
    "for i in list(range(1,ast)):\n",
    "    print(gen_ast(i))\n",
    "    "
   ]
  },
  {
   "cell_type": "code",
   "execution_count": null,
   "metadata": {},
   "outputs": [],
   "source": []
  }
 ],
 "metadata": {
  "kernelspec": {
   "display_name": "Python 3",
   "language": "python",
   "name": "python3"
  },
  "language_info": {
   "codemirror_mode": {
    "name": "ipython",
    "version": 3
   },
   "file_extension": ".py",
   "mimetype": "text/x-python",
   "name": "python",
   "nbconvert_exporter": "python",
   "pygments_lexer": "ipython3",
   "version": "3.6.7"
  }
 },
 "nbformat": 4,
 "nbformat_minor": 2
}
