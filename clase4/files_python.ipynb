{
 "cells": [
  {
   "cell_type": "markdown",
   "metadata": {},
   "source": [
    "#  Files en python"
   ]
  },
  {
   "cell_type": "markdown",
   "metadata": {},
   "source": [
    "open(name_archive, type_acces) \n",
    "\n",
    "type_acces:\n",
    "- w: escribir solo si existe el archivo\n",
    "- r: leer  solo si existe el archivo\n",
    "- a: apilar solo si existe el archivo\n",
    "- w+: escribir si existe el archivo, sino existe lo crea\n",
    "- r+: escribir si existe el archivo, sino existe lo crea\n",
    "- a+: escribir si existe el archivo, sino existe lo crea"
   ]
  },
  {
   "cell_type": "markdown",
   "metadata": {},
   "source": [
    "#### leyendo un archivo"
   ]
  },
  {
   "cell_type": "markdown",
   "metadata": {},
   "source": [
    "####  forma 1, usando read()"
   ]
  },
  {
   "cell_type": "code",
   "execution_count": 7,
   "metadata": {},
   "outputs": [
    {
     "name": "stdout",
     "output_type": "stream",
     "text": [
      "python\n",
      "labotec\n",
      "smartphone\n",
      "\n"
     ]
    }
   ],
   "source": [
    "f = open('prueba.txt','r')\n",
    "fr = f.read()\n",
    "f.close()\n",
    "\n",
    "print(fr)"
   ]
  },
  {
   "cell_type": "markdown",
   "metadata": {},
   "source": [
    "####  forma 2, usando readline()"
   ]
  },
  {
   "cell_type": "code",
   "execution_count": 9,
   "metadata": {},
   "outputs": [
    {
     "name": "stdout",
     "output_type": "stream",
     "text": [
      "python\n",
      "\n",
      "labotec\n",
      "\n",
      "smartphone\n",
      "\n"
     ]
    }
   ],
   "source": [
    "f = open('prueba.txt','r')\n",
    "\n",
    "for i in f.readlines():\n",
    "    print(i)\n",
    "\n",
    "f.close()\n"
   ]
  },
  {
   "cell_type": "code",
   "execution_count": 17,
   "metadata": {},
   "outputs": [
    {
     "name": "stdout",
     "output_type": "stream",
     "text": [
      "['puerta']\n"
     ]
    }
   ],
   "source": [
    "f = open('prueba.txt','r')\n",
    "frr = f.readlines()\n",
    "f.close()\n",
    "\n",
    "print(frr)"
   ]
  },
  {
   "cell_type": "markdown",
   "metadata": {},
   "source": [
    "####  Escribir un valor"
   ]
  },
  {
   "cell_type": "code",
   "execution_count": 23,
   "metadata": {},
   "outputs": [
    {
     "name": "stdout",
     "output_type": "stream",
     "text": [
      "['silla\\n']\n"
     ]
    }
   ],
   "source": [
    "#escribir\n",
    "#############\n",
    "f = open(\"prueba.txt\",'w')\n",
    "f.write(\"silla\\n\")\n",
    "f.close()\n",
    "\n",
    "#leer\n",
    "#############\n",
    "f = open('prueba.txt','r')\n",
    "frr = f.readlines()\n",
    "f.close()\n",
    "\n",
    "print(frr)"
   ]
  },
  {
   "cell_type": "markdown",
   "metadata": {},
   "source": [
    "####  agregar valores apilados"
   ]
  },
  {
   "cell_type": "code",
   "execution_count": 27,
   "metadata": {},
   "outputs": [
    {
     "name": "stdout",
     "output_type": "stream",
     "text": [
      "['34\\n', '56\\n', '89\\n', '34\\n', '67\\n', '34\\n', '56\\n', '89\\n', '34\\n', '67\\n']\n"
     ]
    }
   ],
   "source": [
    "l=[34,56,89,34,67]\n",
    "#escribir\n",
    "#############\n",
    "f = open(\"prueba.txt\",'a+')\n",
    "for i in l:\n",
    "    f.write(str(i)+'\\n')\n",
    "f.close()\n",
    "\n",
    "#leer\n",
    "#############\n",
    "f = open('prueba.txt','r')\n",
    "frr = f.readlines()\n",
    "f.close()\n",
    "\n",
    "print(frr)"
   ]
  },
  {
   "cell_type": "markdown",
   "metadata": {},
   "source": [
    "#### hallar el promedio y la moda de los valores obtenidos de un file"
   ]
  },
  {
   "cell_type": "code",
   "execution_count": null,
   "metadata": {},
   "outputs": [],
   "source": []
  }
 ],
 "metadata": {
  "kernelspec": {
   "display_name": "Python 3",
   "language": "python",
   "name": "python3"
  },
  "language_info": {
   "codemirror_mode": {
    "name": "ipython",
    "version": 3
   },
   "file_extension": ".py",
   "mimetype": "text/x-python",
   "name": "python",
   "nbconvert_exporter": "python",
   "pygments_lexer": "ipython3",
   "version": "3.6.7"
  }
 },
 "nbformat": 4,
 "nbformat_minor": 2
}
