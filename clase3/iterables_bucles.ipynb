{
 "cells": [
  {
   "cell_type": "markdown",
   "metadata": {},
   "source": [
    "#  Ejercicos con python"
   ]
  },
  {
   "cell_type": "markdown",
   "metadata": {},
   "source": [
    "### Uso de input en python3"
   ]
  },
  {
   "cell_type": "code",
   "execution_count": 11,
   "metadata": {},
   "outputs": [
    {
     "name": "stdout",
     "output_type": "stream",
     "text": [
      "Ingresa tu edad :567\n",
      "la edad es: 567\n"
     ]
    }
   ],
   "source": [
    "x=int(input(\"Ingresa tu edad :\"))\n",
    "\n",
    "print(\"la edad es:\",x)"
   ]
  },
  {
   "cell_type": "code",
   "execution_count": 12,
   "metadata": {},
   "outputs": [
    {
     "name": "stdout",
     "output_type": "stream",
     "text": [
      "el orden inverso es: 321\n"
     ]
    }
   ],
   "source": [
    "xx=321\n",
    "print(\"el orden inverso es:\",xx)"
   ]
  },
  {
   "cell_type": "markdown",
   "metadata": {},
   "source": [
    "###  Ingresar un numero por pantalla y devolver el inverso, inicio 3:26 - 3:36 pm"
   ]
  },
  {
   "cell_type": "code",
   "execution_count": 19,
   "metadata": {},
   "outputs": [
    {
     "name": "stdout",
     "output_type": "stream",
     "text": [
      "ingrese valor: 567\n",
      "inverso es: 765\n"
     ]
    }
   ],
   "source": [
    "valor = int(input(\"ingrese valor: \"))  #input ->> string\n",
    "\n",
    "c=int((valor/100)) #1\n",
    "du=valor - c*100   #(123 - 100) -> 23\n",
    "d=int(du/10)   #   2\n",
    "u=du - d*10  #3\n",
    "\n",
    "inv=u*100+d*10+c\n",
    "\n",
    "print(\"inverso es:\",inv)"
   ]
  },
  {
   "cell_type": "markdown",
   "metadata": {},
   "source": [
    "###  Ingresar un numero de 5 cifras por pantalla y devolver el inverso, inicio 3:50 - 4:00 pm"
   ]
  },
  {
   "cell_type": "code",
   "execution_count": 23,
   "metadata": {},
   "outputs": [
    {
     "name": "stdout",
     "output_type": "stream",
     "text": [
      "ingresa num de 5 cifras: 12345\n",
      "54321\n"
     ]
    }
   ],
   "source": [
    "num = int(input(\"ingresa num de 5 cifras: \"))\n",
    "#num=12345\n",
    "c1 = int((num/10000))\n",
    "c25 = num - c1*10000 #12345 - 10000 -> 2345\n",
    "c2 = int(c25/1000)\n",
    "c35 = c25 - c2*1000 #345\n",
    "\n",
    "c3=int((c35/100)) #3\n",
    "du=c35 - c3*100   #(345 - 300) -> 45\n",
    "c4=int(du/10)   #   4\n",
    "c5=du - c4*10  #5\n",
    "\n",
    "inv=c5*10000 + c4*1000 + c3*100+c2*10+c1\n",
    "print(inv)\n"
   ]
  },
  {
   "cell_type": "markdown",
   "metadata": {},
   "source": [
    "###  Hallar la potencia 'n' de 'a' ingresados ambos valores por pantalla 4:15 - 4:25 pm"
   ]
  },
  {
   "cell_type": "code",
   "execution_count": 24,
   "metadata": {},
   "outputs": [
    {
     "name": "stdout",
     "output_type": "stream",
     "text": [
      "potencia: 8\n",
      "base: 2\n",
      "potenci de 2 a la 8 es 256.0\n"
     ]
    }
   ],
   "source": [
    "import math\n",
    "\n",
    "p = int(input(\"potencia: \"))\n",
    "b = int(input('base: '))\n",
    "result = math.pow(b,p)\n",
    "\n",
    "print(\"potenci de {} a la {} es {}\".format(b,p,result))"
   ]
  },
  {
   "cell_type": "markdown",
   "metadata": {},
   "source": [
    "### Hallar el area y el perimetro de un circulo"
   ]
  },
  {
   "cell_type": "code",
   "execution_count": 25,
   "metadata": {},
   "outputs": [
    {
     "name": "stdout",
     "output_type": "stream",
     "text": [
      "ingrese el radio: 3.45\n",
      "área del circulo de radio 3.45 es: 37.392806559352515\n",
      "longitud del circulo es:  21.676989309769574\n"
     ]
    }
   ],
   "source": [
    "## longitud = theta*radio\n",
    "## area = pi.r^2\n",
    "import math \n",
    "\n",
    "r = float(input(\"ingrese el radio: \"))\n",
    "pi = math.pi\n",
    "\n",
    "area=pi*math.pow(r,2)\n",
    "long=2*pi*r\n",
    "\n",
    "print(\"área del circulo de radio {} es: {}\".format(r,area))\n",
    "print(\"longitud del circulo es: \", long)"
   ]
  },
  {
   "cell_type": "markdown",
   "metadata": {},
   "source": [
    "# Problemas usando condicionales"
   ]
  },
  {
   "cell_type": "markdown",
   "metadata": {},
   "source": [
    "###  if , elif, else"
   ]
  },
  {
   "cell_type": "markdown",
   "metadata": {},
   "source": [
    "### Encontrar si un caracter ingresado en pantlla es una vocal 4:48 - 4:58"
   ]
  },
  {
   "cell_type": "code",
   "execution_count": 33,
   "metadata": {},
   "outputs": [
    {
     "name": "stdout",
     "output_type": "stream",
     "text": [
      "ingrese una vocal: P\n",
      "P es una consonante\n"
     ]
    }
   ],
   "source": [
    "vocal=\"aeiou\"\n",
    "consonante=\"bcdfghjklmnpqrstuvwxyz\"\n",
    "caracteres=\"*/-+%\"\n",
    "\n",
    "v = input(\"ingrese una vocal: \")\n",
    "\n",
    "if ((v in vocal) or (v in vocal.upper())):\n",
    "    print(\"{} si es una vocal\".format(v))\n",
    "elif ((v in consonante) or (v in consonante.upper())):\n",
    "    print(\"{} es una consonante\".format(v))\n",
    "elif (v in caracteres):\n",
    "    print(\"{} es un caracter del sistema\".format(v))\n",
    "else:\n",
    "    print(\"tal vez es un numero\")"
   ]
  },
  {
   "cell_type": "code",
   "execution_count": 32,
   "metadata": {},
   "outputs": [
    {
     "data": {
      "text/plain": [
       "'ABC'"
      ]
     },
     "execution_count": 32,
     "metadata": {},
     "output_type": "execute_result"
    }
   ],
   "source": [
    "\"abc\".upper()"
   ]
  },
  {
   "cell_type": "markdown",
   "metadata": {},
   "source": [
    "###  Dado 3 numeros, ordenarlos de menor a mayor y mayor a menor 5:24 - 5:34 pm"
   ]
  },
  {
   "cell_type": "code",
   "execution_count": 39,
   "metadata": {},
   "outputs": [
    {
     "name": "stdout",
     "output_type": "stream",
     "text": [
      "primer numero: 1\n",
      "segundo numero: 2\n",
      "tercer numero: 1\n",
      "mayor es 2: \n"
     ]
    }
   ],
   "source": [
    "n1 = int(input(\"primer numero: \"))\n",
    "n2 = int(input(\"segundo numero: \"))\n",
    "n3 = int(input(\"tercer numero: \"))\n",
    "\n",
    "mayor = None\n",
    "menor = None\n",
    "    \n",
    "if (n1>n2 and n1>n3):\n",
    "    mayor=n1\n",
    "    \n",
    "elif(n1>n2 and n3>n1):\n",
    "    mayor=n3\n",
    "    \n",
    "elif (n2>n1 and n2>n3):\n",
    "    mayor=n2\n",
    "\n",
    "elif (n1>n2 and n2>n3):\n",
    "    mayor=n1\n",
    "\n",
    "elif (n3>n1 and n3>n2):\n",
    "    mayor=n3\n",
    "\n",
    "elif (n1>n3 and n3>n2):\n",
    "    mayor=n1\n",
    "\n",
    "print(\"mayor es {}: \".format(mayor))"
   ]
  },
  {
   "cell_type": "code",
   "execution_count": null,
   "metadata": {},
   "outputs": [],
   "source": []
  },
  {
   "cell_type": "code",
   "execution_count": null,
   "metadata": {},
   "outputs": [],
   "source": []
  }
 ],
 "metadata": {
  "kernelspec": {
   "display_name": "Python 3",
   "language": "python",
   "name": "python3"
  },
  "language_info": {
   "codemirror_mode": {
    "name": "ipython",
    "version": 3
   },
   "file_extension": ".py",
   "mimetype": "text/x-python",
   "name": "python",
   "nbconvert_exporter": "python",
   "pygments_lexer": "ipython3",
   "version": "3.6.7"
  }
 },
 "nbformat": 4,
 "nbformat_minor": 2
}
